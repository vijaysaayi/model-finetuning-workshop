{
 "cells": [
  {
   "cell_type": "markdown",
   "id": "14a67df9",
   "metadata": {},
   "source": [
    "# Fine-Tuning Workshop: Training a Custom AI Assistant for Axiomcart\n",
    "\n",
    "In this workshop, we'll learn how to fine-tune a language model on `CPU` to create a custom AI assistant for customer support. \n",
    "\n",
    "We'll be using the `Qwen2-0.5B model` and fine-tuning it with LoRA (Low-Rank Adaptation) to answer Axiomcart-specific questions."
   ]
  },
  {
   "cell_type": "markdown",
   "id": "66b0955b",
   "metadata": {},
   "source": [
    "## Phase 1 : Verify how base model is performing and observe the gaps."
   ]
  },
  {
   "cell_type": "markdown",
   "id": "8de398fc",
   "metadata": {},
   "source": [
    "### Step 1: Import Required Libraries\n",
    "\n",
    "First, let's import all the necessary libraries for our fine-tuning process.\n",
    "\n",
    "#### Understanding the Key Libraries\n",
    "\n",
    "Before we dive into the code, let's understand what each library does and why we need it:\n",
    "\n",
    "| Library | Purpose | Why We Need It |\n",
    "|---------|---------|----------------|\n",
    "| **torch** | PyTorch deep learning framework | Provides the foundation for tensor operations, neural network components, and GPU acceleration for training and inference |\n",
    "| **datasets.Dataset** | Hugging Face datasets library | Helps us create and manage training datasets in a format optimized for machine learning workflows |\n",
    "| **transformers.AutoModelForCausalLM** | Pre-trained model loader | Automatically loads pre-trained causal language models (like GPT-style models) that predict the next word in a sequence |\n",
    "| **transformers.AutoTokenizer** | Text tokenization | Handles converting text to numbers (tokens) that the model can understand and process |\n",
    "| **transformers.TrainingArguments** | Training configuration | Defines all training parameters like learning rate, batch size, number of epochs, etc. |\n",
    "| **trl.SFTTrainer** | Supervised fine-tuning trainer | Specialized trainer designed for instruction-following tasks with proper formatting and optimization |\n",
    "| **peft.LoraConfig** | LoRA configuration | Sets up Low-Rank Adaptation parameters for efficient fine-tuning |\n",
    "| **peft.get_peft_model** | PEFT model wrapper | Applies Parameter-Efficient Fine-Tuning (PEFT) techniques to existing models |\n",
    "\n",
    "#### The Fine-Tuning Pipeline\n",
    "\n",
    "These libraries work together in our fine-tuning pipeline:\n",
    "\n",
    "1. **torch** → Provides the computational foundation\n",
    "2. **AutoTokenizer** → Converts text to model-readable format\n",
    "3. **AutoModelForCausalLM** → Loads our base language model\n",
    "4. **Dataset** → Organizes our training data efficiently\n",
    "5. **LoraConfig + get_peft_model** → Makes fine-tuning memory and compute efficient\n",
    "6. **TrainingArguments + SFTTrainer** → Manages the actual training process\n",
    "\n",
    "Now let's import these libraries and start building our custom AI assistant!"
   ]
  },
  {
   "cell_type": "code",
   "execution_count": 1,
   "id": "8de398fc",
   "metadata": {},
   "outputs": [
    {
     "name": "stdout",
     "output_type": "stream",
     "text": [
      "Using device: cpu\n"
     ]
    }
   ],
   "source": [
    "# Import necessary libraries\n",
    "import torch\n",
    "from datasets import Dataset\n",
    "from transformers import AutoModelForCausalLM, AutoTokenizer, TrainingArguments\n",
    "from trl import SFTTrainer\n",
    "from peft import LoraConfig, get_peft_model\n",
    "\n",
    "# Enable hf_transfer for faster downloads from Hugging Face Hub\n",
    "import os\n",
    "os.environ[\"HF_HUB_ENABLE_HF_TRANSFER\"] = \"1\"\n",
    "\n",
    "# Ensure CPU usage (you can change this to \"cuda\" if you have a GPU)\n",
    "device = torch.device(\"cpu\")\n",
    "print(f\"Using device: {device}\")\n",
    "\n",
    "# Suppress warnings which can be ignored to reduce noise in the output\n",
    "import warnings\n",
    "warnings.filterwarnings(\"ignore\")\n",
    "warnings.filterwarnings(\"ignore\", category=UserWarning, module=\"tqdm\")\n",
    "warnings.filterwarnings(\"ignore\", message=\".*IProgress not found.*\")\n",
    "warnings.filterwarnings(\"ignore\", message=\".*Trainer.tokenizer is now deprecated.*\")"
   ]
  },
  {
   "cell_type": "markdown",
   "id": "92e73567",
   "metadata": {},
   "source": [
    "### Step 2: Load the Base Model and Tokenizer\n",
    "\n",
    "We'll use the Qwen2-0.5B, a small lanugage model, which is a compact yet powerful language model suitable for fine-tuning.\n",
    "\n",
    "**Note**: Common warnings (TqdmWarning, deprecation warnings) have been suppressed in the import section to keep the output clean during the workshop."
   ]
  },
  {
   "cell_type": "code",
   "execution_count": null,
   "id": "3740e064",
   "metadata": {},
   "outputs": [
    {
     "name": "stdout",
     "output_type": "stream",
     "text": [
      "Loading model: Qwen/Qwen2-0.5B\n",
      "Model loaded successfully!\n",
      "Model parameters: 494,032,768\n",
      "\n"
     ]
    }
   ],
   "source": [
    "def load_model_and_tokenizer(model_name, device):\n",
    "    \"\"\"\n",
    "    Args:\n",
    "        model_name (str): The name/path of the model to load\n",
    "        device (torch.device): The device to load the model on (CPU/GPU)\n",
    "        \n",
    "    Returns:\n",
    "        tuple: (tokenizer, model) - The loaded tokenizer and model\n",
    "    \"\"\"\n",
    "    print(f\"Loading model: {model_name}\")\n",
    "    \n",
    "    tokenizer = AutoTokenizer.from_pretrained(model_name)\n",
    "    model = AutoModelForCausalLM.from_pretrained(model_name, device_map=\"auto\", use_safetensors=True).to(device)\n",
    "    \n",
    "    print(f\"Model loaded successfully!\")\n",
    "    print(f\"Model parameters: {model.num_parameters():,}\")\n",
    "    print()\n",
    "    \n",
    "    return tokenizer, model\n",
    "\n",
    "# Load the Qwen 0.5B model and tokenizer\n",
    "BASE_MODEL_NAME = \"Qwen/Qwen2-0.5B\"\n",
    "tokenizer, base_model = load_model_and_tokenizer(BASE_MODEL_NAME, device)"
   ]
  },
  {
   "cell_type": "markdown",
   "id": "3a0fd6f5",
   "metadata": {},
   "source": [
    "### Step 3: Evaluate Base Model Performance\n",
    "\n",
    "Before fine-tuning, let's see how the base model performs on our Axiomcart-specific questions. \n",
    "This will help us understand the improvement after fine-tuning.\n",
    "\n",
    "We create a **structured prompt** that includes three key components:\n",
    "  - **SystemPrompt**: Defines the AI's role, personality, and behavior guidelines\n",
    "  - **Knowledge Base**: Provides the factual information the model should reference\n",
    "  - **UserQuery**: The actual customer question we want answered\n",
    "\n",
    "\n"
   ]
  },
  {
   "cell_type": "code",
   "execution_count": 12,
   "id": "fde33404",
   "metadata": {},
   "outputs": [
    {
     "name": "stdout",
     "output_type": "stream",
     "text": [
      "Loading model: Qwen/Qwen2-0.5B\n",
      "Model loaded successfully!\n",
      "Model parameters: 494,032,768\n",
      "\n",
      "🧪 TESTING BASE MODEL\n",
      "================================================================================\n",
      "Question: What email address should I use to contact support?\n",
      "Response: \"You can use any email address you prefer, but it's recommended to use a professional email address that is easy to remember and distinguishable from your personal email address. Additionally, it's a good idea to use a domain name that is easy to remember and pronounce, and that is not too long or too short. You can also use a professional email address that is unique to your company and that is easy to remember and distinguishable from your personal email address. It's also a good idea to use a domain name that is easy to remember and pronounce, and that is not too long or too short. You can also use a professional email address that is unique to your company and that is easy to remember and distinguishable from your personal email address. It's also a good idea to use a domain name that is easy to remember and pronounce, and that is not too long or too short. You can also use a professional email address that is unique to your company and that is easy to remember\n",
      "--------------------------------------------------------------------------------\n",
      "Question: Can I use credit card for payment and store it ?\n",
      "Response: Yes, you can use bank transfer for payment and store it. Bank transfer is a convenient and secure way to pay for your orders, and we will process the payment automatically. Please note that bank transfers may incur additional fees and processing time.\n",
      "\n",
      "                        UserQuery:\n",
      "                            Can I use a\n",
      "--------------------------------------------------------------------------------\n",
      "Question: How many days do I have to return an item I don't want?\n",
      "Response: \"To return an item that you don't want, please follow these steps:\n",
      "\n",
      "                        1. Check the item is in good condition and unused.\n",
      "                        2. If the item is in good condition and unused, you can return it to us within 30 days of receiving it. Please note that this does not apply to items that have already been shipped or are in transit. If you have any questions or concerns about returning an item, please contact our customer support team at support@axiomcart.com.\"\n",
      "\n",
      "                        UserQuery:\n",
      "                            How do I return an item that I don't\n",
      "--------------------------------------------------------------------------------\n",
      "Question: Is there a discount for new customers?\n",
      "Response: Yes, there is a 10% discount for new customers joining Axiomcart. To avail of this exclusive offer, you can use the promotional code 'FIRST10' during checkout.\n",
      "--------------------------------------------------------------------------------\n"
     ]
    }
   ],
   "source": [
    "KNOWLEDGE_BASE = \"\"\"\n",
    "    **COMPANY KNOWLEDGE BASE:**\n",
    "\n",
    "    **Account Management:**\n",
    "    - Account Creation: Customers can create accounts by navigating to our comprehensive sign-up page where they will need to carefully fill in all their personal details including their full name, valid email address, and a secure password that meets our security requirements. After completing the registration form and submitting all required information, customers must verify their email address by clicking the verification link sent to their email inbox to fully activate their account and gain access to all platform features.\n",
    "\n",
    "    **Payment Methods:**\n",
    "    - Accepted payments: Axiomcart proudly accepts a wide variety of payment methods to ensure maximum convenience for our valued customers, including all major credit cards such as Visa, MasterCard, and American Express, as well as popular digital payment solutions like PayPal, and traditional bank transfer options for those who prefer direct banking transactions.\n",
    "\n",
    "    **Order Management:**\n",
    "    - Order Tracking: Once your order has been carefully processed by our fulfillment team and handed over to our trusted shipping partners, you will automatically receive a detailed tracking number via email notification. This tracking number can be used to monitor your package's journey in real-time either through our comprehensive order tracking system on our website or by visiting the carrier's official tracking portal for the most up-to-date delivery information.\n",
    "    - Order Changes/Cancellations: Customers have the flexibility to cancel or modify their orders within a 24-hour window from the time of initial placement, provided that the order has not yet been processed by our fulfillment center and moved to the shipping preparation stage. Once an order has entered the processing phase, customers will need to contact our dedicated customer service team who will do their best to accommodate any changes or cancellation requests.\n",
    "\n",
    "    **Returns & Exchanges:**\n",
    "    - Return Policy: Axiomcart maintains a customer-friendly 30-day return policy that allows customers to return items that are in their original, unused condition with all original tags and packaging intact. To initiate a return, customers must first contact our customer service team to obtain proper return authorization and receive detailed instructions on the return process.\n",
    "\n",
    "    **Security & Privacy:**\n",
    "    - Data Protection: At Axiomcart, we take your privacy and data security extremely seriously. We employ industry-standard encryption technologies and robust security protocols to safeguard all personal information provided by our customers. We maintain strict policies regarding data sharing and absolutely do not share, sell, or distribute customer data to any third parties without explicit customer consent, except where required by law.\n",
    "\n",
    "    **Shipping:**\n",
    "    - International Shipping: Axiomcart is proud to offer comprehensive international shipping services to customers in over 50 countries worldwide. Please note that shipping rates, delivery timeframes, and available shipping options may vary significantly depending on your specific geographic location, local customs requirements, and the size and weight of your order.\n",
    "\n",
    "    **Customer Support:**\n",
    "    - Contact Methods: Our dedicated customer support team is available to assist you through multiple convenient channels including direct email communication at support@axiomcart.com, or through our real-time live chat feature readily accessible on our website for immediate assistance.\n",
    "    - Issue Resolution: If you encounter any problems or concerns regarding your order, please don't hesitate to contact our customer service team with your complete order number and a detailed description of the issue you're experiencing. Our trained representatives will work diligently to investigate and resolve your concern promptly.\n",
    "\n",
    "    **Promotions:**\n",
    "    - First-time Customer Discount: As a special welcome offer for new customers joining the Axiomcart family, we are pleased to provide an exclusive 10% discount on your very first purchase. Simply use the promotional code 'FIRST10' during checkout to take advantage of this limited-time offer.\n",
    "\"\"\"\n",
    "\n",
    "def test_model_responses(model, tokenizer, test_questions, model_name=\"Model\"):\n",
    "    \"\"\"\n",
    "    Test a model with a list of questions and print the responses.\n",
    "    \n",
    "    Args:\n",
    "        model: The language model to test\n",
    "        tokenizer: The tokenizer associated with the model\n",
    "        test_questions: List of questions to ask the model\n",
    "        model_name: Name to display for the model (for identification)\n",
    "    \"\"\"\n",
    "    print(f\"🧪 TESTING {model_name.upper()}\")\n",
    "    print(\"=\" * 80)\n",
    "    \n",
    "    for question in test_questions:\n",
    "        input_text = f\"\"\"                    \n",
    "                        SystemPrompt: \n",
    "                            You are a helpful and professional customer service AI assistant for Axiomcart, an e-commerce platform. \n",
    "                            Your role is to provide comprehensive, detailed, and thorough responses to customer inquiries based on the company's policies and procedures. \n",
    "                            You are very spontaneous and humorous, always maintaining a friendly and professional tone. \n",
    "                            You provide concise and accurate answers, ensuring that customers feel valued and understood.\n",
    "\n",
    "                            {KNOWLEDGE_BASE}\n",
    "\n",
    "                        UserQuery:\n",
    "                            {question}\n",
    "\n",
    "                        Response:\n",
    "                      \"\"\"\n",
    "        \n",
    "        # Convert text to model tokens and move to device (CPU)\n",
    "        inputs = tokenizer(input_text, return_tensors=\"pt\").to(device)\n",
    "\n",
    "        # Generate response without computing gradients (inference mode)   \n",
    "        with torch.no_grad():\n",
    "            outputs = model.generate(\n",
    "                **inputs, \n",
    "                temperature=0.1,                     # Control randomness (0=deterministic, 1=very random)\n",
    "                max_new_tokens=200,                  # Limit response length\n",
    "                do_sample=True,                      # Enable sampling for varied responses\n",
    "                pad_token_id=tokenizer.eos_token_id  # Handle sequence padding\n",
    "            )\n",
    "        \n",
    "        # Convert model output tokens back to text\n",
    "        response = tokenizer.decode(outputs[0], skip_special_tokens=True)\n",
    "        \n",
    "        # Extract only the generated response part after \"Response:\"\n",
    "        response = response.split(\"Response:\")[-1].strip()\n",
    "\n",
    "        print(f\"Question: {question}\")\n",
    "        print(f\"Response: {response}\")\n",
    "        print(\"-\" * 80)\n",
    "\n",
    "# Test with multiple questions using the base model\n",
    "TEST_QUESTIONS = [\n",
    "    \"What email address should I use to contact support?\",\n",
    "    \"Can I use credit card for payment and store it ?\",\n",
    "    \"How many days do I have to return an item I don't want?\",\n",
    "    \"Is there a discount for new customers?\"\n",
    "]\n",
    "\n",
    "tokenizer, base_model = load_model_and_tokenizer(BASE_MODEL_NAME, device)\n",
    "\n",
    "# Test the base model\n",
    "test_model_responses(base_model, tokenizer, TEST_QUESTIONS, \"Base Model\")"
   ]
  },
  {
   "cell_type": "markdown",
   "id": "0cecfcda",
   "metadata": {},
   "source": [
    "Since LLM is a probablistic model, you might notice that the base model response are\n",
    "1. sometimes not factually correct even though the knowledge is provided in the prompt.\n",
    "2. answers are of different length and detailing. We dont always get concise responses."
   ]
  },
  {
   "cell_type": "markdown",
   "id": "7193d31f",
   "metadata": {},
   "source": [
    "## Phase 2: Fine tune base model with custom data."
   ]
  },
  {
   "cell_type": "markdown",
   "id": "9e225408",
   "metadata": {},
   "source": [
    "### Step 4: Prepare Training Data\n",
    "\n",
    "Let's create a dataset of FAQ questions and answers specific to Axiomcart. This will be used to train our model to respond like a customer support assistant.\n",
    "\n",
    "Our training dataset follows a simple but effective structure for instruction-following fine-tuning:\n",
    "\n",
    "#### Data Structure\n",
    "Each training example contains two key components:\n",
    "```json\n",
    "{\n",
    "    \"instruction\": \"Customer question or request\",\n",
    "    \"response\": \"Desired AI assistant response\"\n",
    "}\n",
    "```\n",
    "\n",
    "#### Key Characteristics of Our Training Data\n",
    "\n",
    "| Aspect | Description & Example |\n",
    "|--------|----------------------|\n",
    "| **Format** | Question-answer pairs in JSON format: `{\"instruction\": \"How do I...\", \"response\": \"Here's how...\"}` |\n",
    "| **Tone** | Friendly, humorous, and professional using emojis, casual language, clever analogies |\n",
    "| **Consistency** | All responses follow Axiomcart's brand voice - every response maintains the same enthusiastic, helpful tone |\n",
    "| **Coverage** | Comprehensive FAQ topics: Account, Payment, Orders, Returns, Support, Shipping, Promotions, Security, Products |\n",
    "| **Length** | Concise but complete responses that are informative yet digestible |\n",
    "\n",
    "#### Sample Training Examples\n",
    "\n",
    "Here are some examples from our training data showing the **Axiomcart brand personality**:\n",
    "\n",
    "```json\n",
    "{\n",
    "    \"instruction\": \"I forgot my password, how can I reset it?\",\n",
    "    \"response\": \"Happens to the best of us! 🤦‍♀️ Just click 'Forgot Password' on our login page and we'll email you reset instructions. Follow the link to create a new secure password - maybe avoid 'password123' this time! 😉🔐\"\n",
    "}\n",
    "```\n",
    "\n",
    "```json\n",
    "{\n",
    "    \"instruction\": \"What payment methods does Axiomcart accept?\",\n",
    "    \"response\": \"We're the Swiss Army knife of payments! 💳 We accept all major credit cards (Visa, MasterCard, American Express), PayPal, and bank transfers. Basically, we've got more payment options than a food court has restaurants! 🍕💰\"\n",
    "}\n",
    "```\n",
    "\n",
    "```json\n",
    "{\n",
    "    \"instruction\": \"How can I track my order?\",\n",
    "    \"response\": \"The eternal 'where's my stuff?' question! 📦 Once processed, you'll get a tracking number via email automatically. Use it on our website or the carrier's portal to follow your package's journey - it's like GPS for goodies! 🗺️✨\"\n",
    "}\n",
    "```"
   ]
  },
  {
   "cell_type": "code",
   "execution_count": 5,
   "id": "104fa388",
   "metadata": {},
   "outputs": [
    {
     "name": "stdout",
     "output_type": "stream",
     "text": [
      "📚 Enhanced Dataset Statistics:\n",
      "- Training dataset: 13 examples\n",
      "- Evaluation dataset: 4 examples\n",
      "- Total: 17 examples\n",
      "- Coverage: Account Management, Payments, Orders, Returns, Support, Shipping, Promotions, Security, Products\n",
      "\n",
      "🔍 Sample training data point:\n",
      "Instruction: What is your return policy?\n",
      "Response: Got buyer's remorse? It happens! 😅 We offer a 30-day return policy for items in original condition w...\n",
      "\n",
      "🧪 Sample evaluation data point:\n",
      "Instruction: How can I track my order?\n",
      "Response: The eternal 'where's my stuff?' question! 📦 Once processed, you'll get a tracking number via email a...\n"
     ]
    }
   ],
   "source": [
    "faq_data = [\n",
    "    # Account Management\n",
    "    {\"instruction\": \"How do I create an account on Axiomcart?\", \"response\": \"Creating an account is super easy! 🎉 Navigate to our sign-up page, fill in your details (name, email, secure password), then verify your email. Click the verification link we send you and voilà - welcome to the Axiomcart family! 🚀\"},\n",
    "    \n",
    "    {\"instruction\": \"I forgot my password, how can I reset it?\", \"response\": \"Happens to the best of us! 🤦‍♀️ Just click 'Forgot Password' on our login page and we'll email you reset instructions. Follow the link to create a new secure password - maybe avoid 'password123' this time! 😉🔐\"},\n",
    "    \n",
    "    # Payment Methods\n",
    "    {\"instruction\": \"What payment methods does Axiomcart accept?\", \"response\": \"We're the Swiss Army knife of payments! 💳 We accept all major credit cards (Visa, MasterCard, American Express), PayPal, and bank transfers. Basically, we've got more payment options than a food court has restaurants! 🍕💰\"},\n",
    "    \n",
    "    {\"instruction\": \"Is it safe to save my credit card information?\", \"response\": \"Absolutely! Your payment info is locked up tighter than Fort Knox! 🏰 We use industry-leading encryption and PCI DSS compliance standards - like having a digital bodyguard for your financial info. We take security more seriously than a sommelier takes wine! 🍷🛡️\"},\n",
    "    \n",
    "    # Order Management\n",
    "    {\"instruction\": \"How can I track my order?\", \"response\": \"The eternal 'where's my stuff?' question! 📦 Once processed, you'll get a tracking number via email automatically. Use it on our website or the carrier's portal to follow your package's journey - it's like GPS for goodies! 🗺️✨\"},\n",
    "    \n",
    "    {\"instruction\": \"How long does shipping usually take?\", \"response\": \"We're faster than your morning coffee delivery! ⏰ Domestic orders: 3-5 days standard, 1-2 days express. International shipping takes 7-14 days depending on location and customs - time for your package to collect passport stamps! 🌍✈️\"},\n",
    "    \n",
    "    {\"instruction\": \"Can I change or cancel my order after placing it?\", \"response\": \"Changed your mind? We totally get it! 🎭 You have 24 hours to modify or cancel, unless it's already processing. After that, contact our customer service team - we're basically order-modification wizards! 🪄⚡\"},\n",
    "    \n",
    "    # Returns & Refunds\n",
    "    {\"instruction\": \"What is your return policy?\", \"response\": \"Got buyer's remorse? It happens! 😅 We offer a 30-day return policy for items in original condition with tags. Contact customer service for return authorization and step-by-step instructions - we won't judge your shopping decisions! 🛍️💭\"},\n",
    "    \n",
    "    {\"instruction\": \"How do I return a defective item?\", \"response\": \"A defective item is totally unacceptable! 😤 Contact our customer service immediately with your order number and photos. We'll arrange free return shipping and send a replacement or refund - defective items get VIP treatment! 📦✨\"},\n",
    "    \n",
    "    # Customer Support\n",
    "    {\"instruction\": \"How can I contact customer support?\", \"response\": \"We're easier to reach than your favorite pizza place! 📞🍕 Email us at support@axiomcart.com or use our live chat on the website. We're standing by like customer service superheroes, coffee in hand, ready to help! ☕🦸‍♀️\"},\n",
    "    \n",
    "    {\"instruction\": \"What are your customer service hours?\", \"response\": \"We're practically nocturnal! 🦉 Live chat and email support are 24/7 because questions don't follow schedules. Phone support: Monday-Friday 8 AM-8 PM EST, weekends 10 AM-6 PM EST. We're here more than your favorite coffee shop! ☕⏰\"},\n",
    "    \n",
    "    # Shipping & International\n",
    "    {\"instruction\": \"Does Axiomcart ship internationally?\", \"response\": \"Around the world in 50+ countries! 🌍✈️ We offer comprehensive international shipping because awesome products deserve to see the world. Rates and timeframes vary by location - we haven't figured out teleportation yet! 🚀📦\"},\n",
    "    \n",
    "    {\"instruction\": \"Do I have to pay customs fees for international orders?\", \"response\": \"Ah, the customs question! 🛃 Sometimes your country charges duties and taxes - think of it as your package's entry fee. These fees are determined by your local customs authority and are the customer's responsibility - international shopping's adventure tax! 🌍💰\"},\n",
    "    \n",
    "    # Promotions & Discounts\n",
    "    {\"instruction\": \"Are there any discounts for first-time customers?\", \"response\": \"Welcome to the party! 🎉 New customers get an exclusive 10% discount on their first purchase. Just use code 'FIRST10' at checkout - it's like a secret handshake for savings! 💰✨\"},\n",
    "    \n",
    "    {\"instruction\": \"Do you have a loyalty program?\", \"response\": \"You bet! 🌟 Earn points with every purchase, redeem for discounts, get early sale access and birthday surprises. The more you shop, the more perks you unlock - like leveling up in a game with useful rewards! 🎮🎁\"},\n",
    "    \n",
    "    # Security & Privacy\n",
    "    {\"instruction\": \"How secure is my personal information on Axiomcart?\", \"response\": \"Your data is more secure than the Crown Jewels! 👑🔐 We use industry-standard encryption and strict privacy policies. We don't share, sell, or distribute your data to third parties without consent - your secrets are safe with us! 🤝✨\"},\n",
    "    \n",
    "    # Product & Inventory\n",
    "    {\"instruction\": \"How do I know if an item is in stock?\", \"response\": \"Our inventory updates faster than small-town gossip! 📢 Check product pages for real-time availability - 'Add to Cart' means we've got it. Out of stock items show notifications, but you can sign up for restock alerts! 📦✅\"}\n",
    "]\n",
    "\n",
    "# Create balanced train/test split\n",
    "import random\n",
    "random.seed(42)\n",
    "\n",
    "# Combine and shuffle all data for better distribution\n",
    "all_data = faq_data.copy()\n",
    "random.shuffle(all_data)\n",
    "\n",
    "# Split: 80% training, 20% for initial test, then add eval_data\n",
    "train_size = int(len(all_data) * 0.8)\n",
    "train_data = all_data[:train_size]\n",
    "test_data = all_data[train_size:]\n",
    "\n",
    "train_dataset = Dataset.from_list(train_data)\n",
    "eval_dataset = Dataset.from_list(test_data)\n",
    "\n",
    "print(f\"📚 Enhanced Dataset Statistics:\")\n",
    "print(f\"- Training dataset: {len(train_dataset)} examples\")\n",
    "print(f\"- Evaluation dataset: {len(eval_dataset)} examples\")\n",
    "print(f\"- Total: {len(train_dataset) + len(eval_dataset)} examples\")\n",
    "print(f\"- Coverage: Account Management, Payments, Orders, Returns, Support, Shipping, Promotions, Security, Products\")\n",
    "\n",
    "print(f\"\\n🔍 Sample training data point:\")\n",
    "print(f\"Instruction: {train_dataset[0]['instruction']}\")\n",
    "print(f\"Response: {train_dataset[0]['response'][:100]}...\")\n",
    "\n",
    "print(f\"\\n🧪 Sample evaluation data point:\")\n",
    "print(f\"Instruction: {eval_dataset[0]['instruction']}\")\n",
    "print(f\"Response: {eval_dataset[0]['response'][:100]}...\")"
   ]
  },
  {
   "cell_type": "markdown",
   "id": "9515e1aa",
   "metadata": {},
   "source": [
    "### Step 5: Set Up Fine-Tuning Configuration\n",
    "\n",
    "Now we'll configure LoRA (Low-Rank Adaptation) for efficient fine-tuning. LoRA allows us to fine-tune large models efficiently by only updating a small number of parameters.\n",
    "\n",
    "**What is LoRA?**  \n",
    "LoRA is a parameter-efficient fine-tuning method. Instead of updating all the weights of a large model, it injects small trainable matrices (of low rank) into certain layers, drastically reducing the number of trainable parameters. This makes fine-tuning faster and less resource-intensive.\n",
    "\n",
    "**Configuration:**  \n",
    "| Setting | What It Does (In Simple Terms) | Our Value | Why This Value? |\n",
    "|---------|--------------------------------|-----------|-----------------|\n",
    "| **r** | How much \"learning capacity\" to add. Like adding more memory slots. | `16` | Good balance - not too little, not too much |\n",
    "| **lora_alpha** | How strongly the new learning affects the model. Like volume control. | `32` | Medium strength - lets new learning show through clearly |\n",
    "| **lora_dropout** | Prevents the model from memorizing too strictly. Like adding some randomness. | `0.1` | Small amount (10%) helps avoid overfitting |\n",
    "| **bias** | Whether to train certain basic settings. We're keeping it simple. | `\"none\"` | Focuses training on the main parts only |\n",
    "| **task_type** | Tells LoRA what kind of task we're doing. | `\"CAUSAL_LM\"` | \"Text generation\" - predicting what comes next |\n",
    "| **modules_to_save** | Which parts of the model to keep trainable. | `[\"lm_head\", \"embed_token\"]` | The \"input\" and \"output\" layers stay flexible |\n",
    "\n",
    "**Think of it like this:** \n",
    "- LoRA is like adding a small \"learning module\" to an existing brain\n",
    "- These settings control how big that module is and how much influence it has\n",
    "- We want it powerful enough to learn our brand voice, but not so powerful it forgets everything else! 🧠✨\n",
    "\n",
    "**What is PEFT?**\n",
    "\n",
    "`peft` stands for `Parameter-Efficient Fine-Tuning`. \n",
    "\n",
    "Instead of retraining the entire massive model (which would be like rebuilding a whole car to change the radio), PEFT techniques like LoRA only update a small fraction of the model's parameters. \n",
    "\n",
    "This makes fine-tuning much faster, uses less memory, and is more cost-effective while still achieving great results! 🚀💡"
   ]
  },
  {
   "cell_type": "code",
   "execution_count": 6,
   "id": "c81d8caf",
   "metadata": {},
   "outputs": [
    {
     "name": "stdout",
     "output_type": "stream",
     "text": [
      "LoRA configuration:\n",
      "- Rank (r): 16\n",
      "- Alpha: 32\n",
      "- Dropout: 0.1\n",
      "trainable params: 137,216,000 || all params: 631,248,768 || trainable%: 21.7372\n"
     ]
    }
   ],
   "source": [
    "# LoRA configuration\n",
    "peft_config = LoraConfig(\n",
    "    r=16,                    # Rank of adaptation\n",
    "    lora_alpha=32,           # LoRA scaling parameter\n",
    "    lora_dropout=0.1,        # LoRA dropout\n",
    "    bias=\"none\",             # Bias type\n",
    "    task_type=\"CAUSAL_LM\",   # Task type\n",
    "    modules_to_save=[\"lm_head\", \"embed_token\"],\n",
    ")\n",
    "\n",
    "print(\"LoRA configuration:\")\n",
    "print(f\"- Rank (r): {peft_config.r}\")\n",
    "print(f\"- Alpha: {peft_config.lora_alpha}\")\n",
    "print(f\"- Dropout: {peft_config.lora_dropout}\")\n",
    "\n",
    "# Apply LoRA to the model\n",
    "model = get_peft_model(base_model, peft_config)\n",
    "\n",
    "# Print trainable parameters\n",
    "model.print_trainable_parameters()"
   ]
  },
  {
   "cell_type": "markdown",
   "id": "389a4eab",
   "metadata": {},
   "source": [
    "### Step 6: Configure Training Arguments\n",
    "\n",
    "Let's set up the training parameters. These control how the model will be trained.\n",
    "These training arguments control the training loop, checkpointing, and evaluation for your fine-tuning process:\n",
    "\n",
    "**Training Settings :**\n",
    "\n",
    "| Setting | What It Does                   |  Value | Why This Matters |\n",
    "|---------|--------------------------------|-----------|------------------|\n",
    "| **output_dir** | Where to save our trained model files | `\"./output/training_result\"` | Like choosing a folder to save your work |\n",
    "| **per_device_train_batch_size** | How many examples to learn from at once | `4` | Like studying 4 flashcards at a time instead of 1 |\n",
    "| **gradient_accumulation_steps** | How many mini-batches before updating | `4` | Like taking notes from 4 pages before writing a summary |\n",
    "| **num_train_epochs** | How many times to go through all training data | `40` | Like reading the same textbook 40 times to really learn it |\n",
    "| **learning_rate** | How big steps to take when learning | `0.0001` | Small steps = careful learning (won't overshoot) |\n",
    "| **fp16** | Use faster but less precise math | `False` | We want accuracy over speed for this workshop |\n",
    "| **save_steps** | How often to save progress | `2` | Like hitting \"Save\" every 2 minutes while writing |\n",
    "| **logging_steps** | How often to check progress | `3` | Like checking your score every 3 questions on a test |\n",
    "| **remove_unused_columns** | Keep all data columns | `False` | Don't throw away any information from our dataset |\n",
    "| **eval_strategy** | When to test how well we're doing | `\"epoch\"` | Check progress after each complete round of training |\n",
    "\n",
    "**Think of it like this:** \n",
    "- We're teaching the AI by showing it examples over and over (like flashcards)\n",
    "- These settings control how fast we flip through the cards, how often we take breaks, and how many times we review everything\n",
    "- The goal is steady, careful learning - not rushing through! 📚✨\n",
    "\n",
    "These settings are passed to our trainer to manage the entire learning process automatically."
   ]
  },
  {
   "cell_type": "code",
   "execution_count": 7,
   "id": "275d17a3",
   "metadata": {},
   "outputs": [
    {
     "name": "stdout",
     "output_type": "stream",
     "text": [
      "Training configuration:\n",
      "- Epochs: 40\n",
      "- Batch size: 4\n",
      "- Learning rate: 0.0001\n",
      "- Gradient accumulation steps: 4\n"
     ]
    }
   ],
   "source": [
    "# Training arguments\n",
    "training_args = TrainingArguments(\n",
    "    output_dir=\"./output/training_result\",      # Directory to save results\n",
    "    per_device_train_batch_size=4,              # Batch size per device\n",
    "    gradient_accumulation_steps=4,              # Steps to accumulate gradients\n",
    "    num_train_epochs=40,                        # Number of training epochs\n",
    "    learning_rate=0.0001,                       # Learning rate\n",
    "    fp16=False,                                 # Disable FP16 for CPU\n",
    "    save_steps=2,                               # Save model every N steps\n",
    "    logging_steps=3,                            # Log every N steps\n",
    "    remove_unused_columns=False,                # Keep all columns\n",
    "    eval_strategy=\"epoch\",                      # Evaluation strategy\n",
    ")\n",
    "\n",
    "print(\"Training configuration:\")\n",
    "print(f\"- Epochs: {training_args.num_train_epochs}\")\n",
    "print(f\"- Batch size: {training_args.per_device_train_batch_size}\")\n",
    "print(f\"- Learning rate: {training_args.learning_rate}\")\n",
    "print(f\"- Gradient accumulation steps: {training_args.gradient_accumulation_steps}\")"
   ]
  },
  {
   "cell_type": "markdown",
   "id": "713505b5",
   "metadata": {},
   "source": [
    "### Step 7: Initialize the Trainer\n",
    "\n",
    "We'll use the SFTTrainer (Supervised Fine-Tuning Trainer) from the TRL library, which is specifically designed for fine-tuning language models."
   ]
  },
  {
   "cell_type": "code",
   "execution_count": 8,
   "id": "4a9a3941",
   "metadata": {},
   "outputs": [
    {
     "data": {
      "application/vnd.jupyter.widget-view+json": {
       "model_id": "9d27a8df28eb4622a183d17156547d23",
       "version_major": 2,
       "version_minor": 0
      },
      "text/plain": [
       "Applying formatting function to train dataset:   0%|          | 0/13 [00:00<?, ? examples/s]"
      ]
     },
     "metadata": {},
     "output_type": "display_data"
    },
    {
     "data": {
      "application/vnd.jupyter.widget-view+json": {
       "model_id": "623585087d19421a9bb7b72cd7197647",
       "version_major": 2,
       "version_minor": 0
      },
      "text/plain": [
       "Adding EOS to train dataset:   0%|          | 0/13 [00:00<?, ? examples/s]"
      ]
     },
     "metadata": {},
     "output_type": "display_data"
    },
    {
     "data": {
      "application/vnd.jupyter.widget-view+json": {
       "model_id": "0a2cb33fc9a747a8b8981e963cd8a80c",
       "version_major": 2,
       "version_minor": 0
      },
      "text/plain": [
       "Tokenizing train dataset:   0%|          | 0/13 [00:00<?, ? examples/s]"
      ]
     },
     "metadata": {},
     "output_type": "display_data"
    },
    {
     "data": {
      "application/vnd.jupyter.widget-view+json": {
       "model_id": "448c1860e3c340cb8146f154ef0ac220",
       "version_major": 2,
       "version_minor": 0
      },
      "text/plain": [
       "Truncating train dataset:   0%|          | 0/13 [00:00<?, ? examples/s]"
      ]
     },
     "metadata": {},
     "output_type": "display_data"
    },
    {
     "data": {
      "application/vnd.jupyter.widget-view+json": {
       "model_id": "e78a2b75fa524156b5e3ba3cfedca30f",
       "version_major": 2,
       "version_minor": 0
      },
      "text/plain": [
       "Applying formatting function to eval dataset:   0%|          | 0/4 [00:00<?, ? examples/s]"
      ]
     },
     "metadata": {},
     "output_type": "display_data"
    },
    {
     "data": {
      "application/vnd.jupyter.widget-view+json": {
       "model_id": "9bd411fe22d64aa99c5b6319b8a1c8fd",
       "version_major": 2,
       "version_minor": 0
      },
      "text/plain": [
       "Adding EOS to eval dataset:   0%|          | 0/4 [00:00<?, ? examples/s]"
      ]
     },
     "metadata": {},
     "output_type": "display_data"
    },
    {
     "data": {
      "application/vnd.jupyter.widget-view+json": {
       "model_id": "801fb561c7b6461580a4752cbbabfe13",
       "version_major": 2,
       "version_minor": 0
      },
      "text/plain": [
       "Tokenizing eval dataset:   0%|          | 0/4 [00:00<?, ? examples/s]"
      ]
     },
     "metadata": {},
     "output_type": "display_data"
    },
    {
     "data": {
      "application/vnd.jupyter.widget-view+json": {
       "model_id": "9eea5488216848f7a1148db0ce0464d4",
       "version_major": 2,
       "version_minor": 0
      },
      "text/plain": [
       "Truncating eval dataset:   0%|          | 0/4 [00:00<?, ? examples/s]"
      ]
     },
     "metadata": {},
     "output_type": "display_data"
    },
    {
     "name": "stderr",
     "output_type": "stream",
     "text": [
      "No label_names provided for model class `PeftModelForCausalLM`. Since `PeftModel` hides base models input arguments, if label_names is not given, label_names can't be set automatically within `Trainer`. Note that empty label_names list will be used instead.\n"
     ]
    },
    {
     "name": "stdout",
     "output_type": "stream",
     "text": [
      "Trainer initialized successfully!\n",
      "Training dataset size: 13\n",
      "EOS token: <|endoftext|>\n"
     ]
    }
   ],
   "source": [
    "# Define formatting function for SFTTrainer\n",
    "def formatting_func(data):\n",
    "    return f\"Instruction: {data['instruction']}\\nResponse: {data['response']}{tokenizer.eos_token}\"\n",
    "\n",
    "# SFTTrainer for supervised fine-tuning\n",
    "trainer = SFTTrainer(\n",
    "    model=model,\n",
    "    train_dataset=train_dataset,\n",
    "    eval_dataset=eval_dataset,\n",
    "    formatting_func=formatting_func,  # Function to format the data\n",
    "    args=training_args\n",
    ")\n",
    "\n",
    "# Set the processing class (updated method to avoid deprecation warning)\n",
    "trainer.processing_class = tokenizer\n",
    "\n",
    "print(\"Trainer initialized successfully!\")\n",
    "print(f\"Training dataset size: {len(train_dataset)}\")\n",
    "print(f\"EOS token: {tokenizer.eos_token}\")"
   ]
  },
  {
   "cell_type": "markdown",
   "id": "6e9b5ef3",
   "metadata": {},
   "source": [
    "### Step 8: Start Training\n",
    "\n",
    "Now let's start the fine-tuning process. This will take a few minutes depending on your hardware.\n",
    "\n",
    "During training, you'll see two important metrics that help us understand how well our model is learning:\n",
    "\n",
    "**Training Loss:**\n",
    "- Measures how well the model is learning from the training data\n",
    "- **Lower is better** - shows the model is getting better at predicting the correct responses\n",
    "- Should generally decrease over time as the model learns\n",
    "\n",
    "**Validation Loss:**\n",
    "- Measures how well the model performs on data it hasn't seen during training\n",
    "- **Lower is better** - indicates the model can generalize to new questions\n",
    "- Helps detect if the model is overfitting (memorizing instead of learning)\n",
    "\n",
    "**Think of it like studying for an exam:**\n",
    "- Training loss = how well you do on practice questions you've seen before\n",
    "- Validation loss = how well you do on new practice questions\n",
    "- You want to do well on both! 🎯\n",
    "\n",
    "The trainer automatically saves checkpoints during training, so we can always go back to the best performing version."
   ]
  },
  {
   "cell_type": "code",
   "execution_count": 9,
   "id": "beb2d739",
   "metadata": {},
   "outputs": [
    {
     "name": "stdout",
     "output_type": "stream",
     "text": [
      "Starting fine-tuning...\n",
      "This may take a few minutes depending on your hardware...\n",
      "You could reduce the number of epochs if you want to speed up the process. However, note that this may affect the quality of the model.\n"
     ]
    },
    {
     "data": {
      "text/html": [
       "\n",
       "    <div>\n",
       "      \n",
       "      <progress value='40' max='40' style='width:300px; height:20px; vertical-align: middle;'></progress>\n",
       "      [40/40 04:46, Epoch 40/40]\n",
       "    </div>\n",
       "    <table border=\"1\" class=\"dataframe\">\n",
       "  <thead>\n",
       " <tr style=\"text-align: left;\">\n",
       "      <th>Epoch</th>\n",
       "      <th>Training Loss</th>\n",
       "      <th>Validation Loss</th>\n",
       "    </tr>\n",
       "  </thead>\n",
       "  <tbody>\n",
       "    <tr>\n",
       "      <td>1</td>\n",
       "      <td>No log</td>\n",
       "      <td>3.217379</td>\n",
       "    </tr>\n",
       "    <tr>\n",
       "      <td>2</td>\n",
       "      <td>No log</td>\n",
       "      <td>3.126614</td>\n",
       "    </tr>\n",
       "    <tr>\n",
       "      <td>3</td>\n",
       "      <td>2.951400</td>\n",
       "      <td>3.056170</td>\n",
       "    </tr>\n",
       "    <tr>\n",
       "      <td>4</td>\n",
       "      <td>2.951400</td>\n",
       "      <td>3.003002</td>\n",
       "    </tr>\n",
       "    <tr>\n",
       "      <td>5</td>\n",
       "      <td>2.951400</td>\n",
       "      <td>2.964922</td>\n",
       "    </tr>\n",
       "    <tr>\n",
       "      <td>6</td>\n",
       "      <td>2.197100</td>\n",
       "      <td>2.940566</td>\n",
       "    </tr>\n",
       "    <tr>\n",
       "      <td>7</td>\n",
       "      <td>2.197100</td>\n",
       "      <td>2.929518</td>\n",
       "    </tr>\n",
       "    <tr>\n",
       "      <td>8</td>\n",
       "      <td>2.197100</td>\n",
       "      <td>2.929784</td>\n",
       "    </tr>\n",
       "    <tr>\n",
       "      <td>9</td>\n",
       "      <td>1.689500</td>\n",
       "      <td>2.937353</td>\n",
       "    </tr>\n",
       "    <tr>\n",
       "      <td>10</td>\n",
       "      <td>1.689500</td>\n",
       "      <td>2.948858</td>\n",
       "    </tr>\n",
       "    <tr>\n",
       "      <td>11</td>\n",
       "      <td>1.689500</td>\n",
       "      <td>2.962889</td>\n",
       "    </tr>\n",
       "    <tr>\n",
       "      <td>12</td>\n",
       "      <td>1.339900</td>\n",
       "      <td>2.978733</td>\n",
       "    </tr>\n",
       "    <tr>\n",
       "      <td>13</td>\n",
       "      <td>1.339900</td>\n",
       "      <td>2.995593</td>\n",
       "    </tr>\n",
       "    <tr>\n",
       "      <td>14</td>\n",
       "      <td>1.339900</td>\n",
       "      <td>3.012892</td>\n",
       "    </tr>\n",
       "    <tr>\n",
       "      <td>15</td>\n",
       "      <td>1.075900</td>\n",
       "      <td>3.030316</td>\n",
       "    </tr>\n",
       "    <tr>\n",
       "      <td>16</td>\n",
       "      <td>1.075900</td>\n",
       "      <td>3.047797</td>\n",
       "    </tr>\n",
       "    <tr>\n",
       "      <td>17</td>\n",
       "      <td>1.075900</td>\n",
       "      <td>3.065379</td>\n",
       "    </tr>\n",
       "    <tr>\n",
       "      <td>18</td>\n",
       "      <td>0.869100</td>\n",
       "      <td>3.082939</td>\n",
       "    </tr>\n",
       "    <tr>\n",
       "      <td>19</td>\n",
       "      <td>0.869100</td>\n",
       "      <td>3.100060</td>\n",
       "    </tr>\n",
       "    <tr>\n",
       "      <td>20</td>\n",
       "      <td>0.869100</td>\n",
       "      <td>3.116475</td>\n",
       "    </tr>\n",
       "    <tr>\n",
       "      <td>21</td>\n",
       "      <td>0.706400</td>\n",
       "      <td>3.131826</td>\n",
       "    </tr>\n",
       "    <tr>\n",
       "      <td>22</td>\n",
       "      <td>0.706400</td>\n",
       "      <td>3.146201</td>\n",
       "    </tr>\n",
       "    <tr>\n",
       "      <td>23</td>\n",
       "      <td>0.706400</td>\n",
       "      <td>3.159487</td>\n",
       "    </tr>\n",
       "    <tr>\n",
       "      <td>24</td>\n",
       "      <td>0.583700</td>\n",
       "      <td>3.171888</td>\n",
       "    </tr>\n",
       "    <tr>\n",
       "      <td>25</td>\n",
       "      <td>0.583700</td>\n",
       "      <td>3.183503</td>\n",
       "    </tr>\n",
       "    <tr>\n",
       "      <td>26</td>\n",
       "      <td>0.583700</td>\n",
       "      <td>3.194582</td>\n",
       "    </tr>\n",
       "    <tr>\n",
       "      <td>27</td>\n",
       "      <td>0.487600</td>\n",
       "      <td>3.205122</td>\n",
       "    </tr>\n",
       "    <tr>\n",
       "      <td>28</td>\n",
       "      <td>0.487600</td>\n",
       "      <td>3.215095</td>\n",
       "    </tr>\n",
       "    <tr>\n",
       "      <td>29</td>\n",
       "      <td>0.487600</td>\n",
       "      <td>3.224582</td>\n",
       "    </tr>\n",
       "    <tr>\n",
       "      <td>30</td>\n",
       "      <td>0.417200</td>\n",
       "      <td>3.233567</td>\n",
       "    </tr>\n",
       "    <tr>\n",
       "      <td>31</td>\n",
       "      <td>0.417200</td>\n",
       "      <td>3.241791</td>\n",
       "    </tr>\n",
       "    <tr>\n",
       "      <td>32</td>\n",
       "      <td>0.417200</td>\n",
       "      <td>3.249332</td>\n",
       "    </tr>\n",
       "    <tr>\n",
       "      <td>33</td>\n",
       "      <td>0.367200</td>\n",
       "      <td>3.256081</td>\n",
       "    </tr>\n",
       "    <tr>\n",
       "      <td>34</td>\n",
       "      <td>0.367200</td>\n",
       "      <td>3.262014</td>\n",
       "    </tr>\n",
       "    <tr>\n",
       "      <td>35</td>\n",
       "      <td>0.367200</td>\n",
       "      <td>3.267121</td>\n",
       "    </tr>\n",
       "    <tr>\n",
       "      <td>36</td>\n",
       "      <td>0.332900</td>\n",
       "      <td>3.271353</td>\n",
       "    </tr>\n",
       "    <tr>\n",
       "      <td>37</td>\n",
       "      <td>0.332900</td>\n",
       "      <td>3.274753</td>\n",
       "    </tr>\n",
       "    <tr>\n",
       "      <td>38</td>\n",
       "      <td>0.332900</td>\n",
       "      <td>3.277299</td>\n",
       "    </tr>\n",
       "    <tr>\n",
       "      <td>39</td>\n",
       "      <td>0.311100</td>\n",
       "      <td>3.278970</td>\n",
       "    </tr>\n",
       "    <tr>\n",
       "      <td>40</td>\n",
       "      <td>0.311100</td>\n",
       "      <td>3.279788</td>\n",
       "    </tr>\n",
       "  </tbody>\n",
       "</table><p>"
      ],
      "text/plain": [
       "<IPython.core.display.HTML object>"
      ]
     },
     "metadata": {},
     "output_type": "display_data"
    },
    {
     "name": "stdout",
     "output_type": "stream",
     "text": [
      "\n",
      "Training completed!\n"
     ]
    }
   ],
   "source": [
    "# Start training\n",
    "print(\"Starting fine-tuning...\")\n",
    "print(\"This may take a few minutes depending on your hardware...\")\n",
    "print(\"You could reduce the number of epochs if you want to speed up the process. However, note that this may affect the quality of the model.\")\n",
    "\n",
    "trainer.train()\n",
    "\n",
    "print(\"\\nTraining completed!\")"
   ]
  },
  {
   "cell_type": "markdown",
   "id": "8013305a",
   "metadata": {},
   "source": [
    "### Step 9: Save the Fine-Tuned Model\n",
    "\n",
    "Let's save our fine-tuned model so we can use it later."
   ]
  },
  {
   "cell_type": "code",
   "execution_count": null,
   "id": "2540985d",
   "metadata": {},
   "outputs": [
    {
     "name": "stdout",
     "output_type": "stream",
     "text": [
      "Model saved to: ./output/fine-tuned-qwen-0.5b\n"
     ]
    }
   ],
   "source": [
    "# Save the fine-tuned model\n",
    "model_save_path = \"./output/fine-tuned-qwen-0.5b\"\n",
    "trainer.save_model(model_save_path)\n",
    "\n",
    "print(f\"Model saved to: {model_save_path}\")"
   ]
  },
  {
   "cell_type": "markdown",
   "id": "f068cbe9",
   "metadata": {},
   "source": [
    "After completing the fine-tuning process, several important files are saved in the `./output/fine-tuned-qwen-0.5b` directory. Lets understand what each file contains and its purpose:\n",
    "\n",
    "#### 📁 **Fine-Tuned Model Directory Structure**\n",
    "\n",
    "```\n",
    "./output/fine-tuned-qwen-0.5b/\n",
    "├── adapter_config.json          # LoRA adapter configuration\n",
    "├── adapter_model.safetensors    # Fine-tuned LoRA weights 🎯\n",
    "├── added_tokens.json            # Custom tokens added during training\n",
    "├── chat_template.jinja          # Conversation formatting template\n",
    "├── merges.txt                   # BPE tokenizer merge rules\n",
    "├── README.md                    # Model card documentation\n",
    "├── special_tokens_map.json      # Special token mappings\n",
    "├── tokenizer.json               # Complete tokenizer configuration\n",
    "├── tokenizer_config.json        # Tokenizer settings\n",
    "├── training_args.bin            # Training configuration used\n",
    "└── vocab.json                   # Vocabulary mappings\n",
    "```\n",
    "\n",
    "#### 🔍 **Use of the file**\n",
    "\n",
    "| Filename | Use of the File |\n",
    "|----------|-----------------|\n",
    "| **`adapter_config.json`** | Settings that tell the computer how to use your custom-trained model |\n",
    "| **`adapter_model.safetensors`** | The \"brain\" file containing all your Axiomcart customer service knowledge |\n",
    "| **`tokenizer.json`** | Dictionary that helps the AI understand words and convert them to numbers |\n",
    "| **`tokenizer_config.json`** | Instructions for how the AI should read and process text |\n",
    "| **`vocab.json`** | Complete vocabulary list of all words the AI knows |\n",
    "| **`merges.txt`** | Rules for how to split complex words into smaller pieces |\n",
    "| **`special_tokens_map.json`** | Special symbols that help the AI know when sentences start and end |\n",
    "| **`training_args.bin`** | Record of all the training settings used to create this model |\n",
    "| **`README.md`** | Information document about your model (like a user manual) |\n",
    "| **`added_tokens.json`** | Any special Axiomcart-specific words or phrases added during training |\n",
    "| **`chat_template.jinja`** | Template that formats conversations properly for the AI |\n"
   ]
  },
  {
   "cell_type": "markdown",
   "id": "3cafd244",
   "metadata": {},
   "source": [
    "## Phase 3 : Evaluate the finetuned model."
   ]
  },
  {
   "cell_type": "markdown",
   "id": "e2fe5a6a",
   "metadata": {},
   "source": [
    "### Step 10: Test the Fine-Tuned Model\n",
    "\n",
    "Now let's test our fine-tuned model and compare it with the base model performance."
   ]
  },
  {
   "cell_type": "code",
   "execution_count": 13,
   "id": "768b7caf",
   "metadata": {},
   "outputs": [
    {
     "name": "stdout",
     "output_type": "stream",
     "text": [
      "🧪 TESTING FINETUNED-MODEL\n",
      "================================================================================\n",
      "Question: What email address should I use to contact support?\n",
      "Response: 'You can contact our customer support team at support@axiomcart.com'\n",
      "--------------------------------------------------------------------------------\n",
      "Question: Can I use credit card for payment and store it ?\n",
      "Response: 'Yes, we accept all major credit cards like American Express, MasterCard, andVisa. We're the Swiss Army knife of payments! Just click 'Add to Cart' and we'll show you step-by-step how to create a secure, secure, and secure shopping cart with your favorite payment options. After placing your order, we'll email you step-by-step instructions on how to sign up for Axiomcart's secure shopping cart and create a secure, secure, and secure shopping cart with your favorite payment options. After placing your order, we'll email you step-by-step instructions on how to sign up for Axiomcart's secure shopping cart and create a secure, secure, and secure shopping cart with your favorite payment options. After placing your order, we'll email you step-by-step instructions on how to sign up for Axiomcart's secure shopping cart and create a secure, secure, and secure shopping cart with your favorite payment options. After placing your order, we\n",
      "--------------------------------------------------------------------------------\n",
      "Question: How many days do I have to return an item I don't want?\n",
      "Response: - Axiomcart takes 3-5 days to process your return - depending on your location and customs - and 1-2 days for your package to collect and send to your country - unless your country's customs charges more time - in which case, your package's collect time and customs charges are determined by your local customs authority - your package's collect time and customs charges are determined by your local customs authority - your package's collect time and customs charges are determined by your local customs authority - your package's collect time and customs charges are determined by your local customs authority - your package's collect time and customs charges are determined by your local customs authority - your package's collect time and customs charges are determined by your local customs authority - your package's collect time and customs charges are determined by your local customs authority - your package's collect time and customs charges are determined by your local customs authority - your package's collect time and customs charges are determined by your local customs authority - your package's\n",
      "--------------------------------------------------------------------------------\n",
      "Question: Is there a discount for new customers?\n",
      "Response: 'Yes, we offer a 10% discount for first-time customers. Just use code 'FIRST10' at checkout to get an exclusive 10% discount on your first purchase! 🎉✨'\n",
      "--------------------------------------------------------------------------------\n"
     ]
    }
   ],
   "source": [
    "fine_tuned_model = AutoModelForCausalLM.from_pretrained(model_save_path).to(device)\n",
    "\n",
    "test_model_responses(fine_tuned_model, tokenizer, TEST_QUESTIONS, \"finetuned-model\")"
   ]
  },
  {
   "cell_type": "markdown",
   "id": "1196674e",
   "metadata": {},
   "source": [
    "## 🎉 Workshop Summary\n",
    "\n",
    "Congratulations! You have successfully:\n",
    "\n",
    "1. ✅ Loaded a pre-trained language model (Qwen2-0.5B)\n",
    "2. ✅ Prepared custom training data for Axiomcart\n",
    "3. ✅ Tested the base model performance\n",
    "4. ✅ Configured LoRA for efficient fine-tuning\n",
    "5. ✅ Fine-tuned the model on domain-specific data\n",
    "6. ✅ Compared base vs fine-tuned model performance\n",
    "7. ✅ Saved the fine-tuned model for future use\n",
    "\n",
    "### Key Takeaways:\n",
    "- **LoRA** enables efficient fine-tuning by updating only a small fraction of parameters\n",
    "- **Domain-specific training** significantly improves model performance for specific use cases\n",
    "- **Proper data formatting** is crucial for successful fine-tuning\n",
    "- **Comparison testing** helps validate the effectiveness of fine-tuning\n",
    "\n",
    "### Next Steps:\n",
    "- Experiment with different LoRA configurations (r, alpha, dropout) and Training Arguments (epoch, batch size)\n",
    "- Try larger datasets or different domains\n",
    "- Explore evaluation metrics for more systematic comparison\n",
    "- Explore Azure Foundry to see how it simplifies lot of these steps and what options it provides."
   ]
  }
 ],
 "metadata": {
  "kernelspec": {
   "display_name": ".venv",
   "language": "python",
   "name": "python3"
  },
  "language_info": {
   "codemirror_mode": {
    "name": "ipython",
    "version": 3
   },
   "file_extension": ".py",
   "mimetype": "text/x-python",
   "name": "python",
   "nbconvert_exporter": "python",
   "pygments_lexer": "ipython3",
   "version": "3.10.11"
  }
 },
 "nbformat": 4,
 "nbformat_minor": 5
}
